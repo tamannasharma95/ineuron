{
 "cells": [
  {
   "cell_type": "markdown",
   "id": "94f6f4fd",
   "metadata": {},
   "source": [
    "### 1. Write a Python Program to Find the Factorial of a Number?"
   ]
  },
  {
   "cell_type": "code",
   "execution_count": 6,
   "id": "b8292289",
   "metadata": {},
   "outputs": [
    {
     "name": "stdout",
     "output_type": "stream",
     "text": [
      "Enter a no. 4\n",
      "24\n"
     ]
    }
   ],
   "source": [
    "def find_factorial(n):\n",
    "    result = 1\n",
    "    for i in range(1,n+1):\n",
    "        result = result*i\n",
    "    return result\n",
    "\n",
    "num = int(input(\"Enter a no. \"))\n",
    "print(find_factorial(num))"
   ]
  },
  {
   "cell_type": "markdown",
   "id": "6578244d",
   "metadata": {},
   "source": [
    "### 2. Write a Python Program to Display the multiplication Table?"
   ]
  },
  {
   "cell_type": "code",
   "execution_count": 2,
   "id": "97fdeea5",
   "metadata": {},
   "outputs": [
    {
     "name": "stdout",
     "output_type": "stream",
     "text": [
      "53 x 1 = 53\n",
      "53 x 2 = 106\n",
      "53 x 3 = 159\n",
      "53 x 4 = 212\n",
      "53 x 5 = 265\n",
      "53 x 6 = 318\n",
      "53 x 7 = 371\n",
      "53 x 8 = 424\n",
      "53 x 9 = 477\n",
      "53 x 10 = 530\n",
      "None\n"
     ]
    }
   ],
   "source": [
    "def multiplication(n):\n",
    "    for i in range (1,11):\n",
    "        print(n, 'x', i, '=', n*i)\n",
    "print(multiplication(53)) "
   ]
  },
  {
   "cell_type": "markdown",
   "id": "b3215628",
   "metadata": {},
   "source": [
    "### 3. Write a Python Program to Print the Fibonacci sequence?"
   ]
  },
  {
   "cell_type": "code",
   "execution_count": 1,
   "id": "14781785",
   "metadata": {},
   "outputs": [
    {
     "name": "stdout",
     "output_type": "stream",
     "text": [
      "34\n"
     ]
    }
   ],
   "source": [
    "def Fibonacci(n):\n",
    "    for i in range(1,n):\n",
    "    # Check if input is 0 then it will print incorrect input\n",
    "    if n < 0:\n",
    "        print(\"Incorrect input\")\n",
    " \n",
    "    # Check if n is 0, then it will return 0\n",
    "    elif n == 0:\n",
    "        return 0\n",
    " \n",
    "    # Check if n is 1,2 it will return 1\n",
    "    elif n == 1 or n == 2:\n",
    "        return 1\n",
    " \n",
    "    else:\n",
    "        return Fibonacci(n-1) + Fibonacci(n-2)\n",
    "\n",
    "print(Fibonacci(9))"
   ]
  },
  {
   "cell_type": "markdown",
   "id": "8183b4f4",
   "metadata": {},
   "source": [
    "### 4. Write a Python Program to Check Armstrong Number?"
   ]
  },
  {
   "cell_type": "code",
   "execution_count": 9,
   "id": "6c1f1e29",
   "metadata": {},
   "outputs": [
    {
     "name": "stdout",
     "output_type": "stream",
     "text": [
      "153 is Armstrong no.\n"
     ]
    }
   ],
   "source": [
    "def get_digits(num):\n",
    "    digits = []\n",
    "    while(num >0):\n",
    "        nxt = num%10\n",
    "        digits.append(nxt)\n",
    "        num=num//10\n",
    "    return digits\n",
    "\n",
    "\n",
    "def check_arm(num):\n",
    "    digits = get_digits(num)\n",
    "    count = len(digits)\n",
    "    sm = 0\n",
    "    for i in range(count):\n",
    "        sm = (digits[i] ** count)+ sm\n",
    "    if sm == num:\n",
    "        return str(num) + \" is Armstrong no.\"\n",
    "    else:\n",
    "        return str(num) + \" is not Armstrong no.\"\n",
    "    \n",
    "print(check_arm(153))\n",
    "    "
   ]
  },
  {
   "cell_type": "markdown",
   "id": "0b983416",
   "metadata": {},
   "source": [
    "### 5. Write a Python Program to Find Armstrong Number in an Interval?"
   ]
  },
  {
   "cell_type": "code",
   "execution_count": 16,
   "id": "a56c51da",
   "metadata": {},
   "outputs": [
    {
     "name": "stdout",
     "output_type": "stream",
     "text": [
      "[153, 370, 371, 407]\n"
     ]
    }
   ],
   "source": [
    "def get_digits(num):\n",
    "    digits = []\n",
    "    while(num >0):\n",
    "        nxt = num%10\n",
    "        digits.append(nxt)\n",
    "        num=num//10\n",
    "    return digits\n",
    "\n",
    "\n",
    "def check_arm(num):\n",
    "    digits = get_digits(num)\n",
    "    count = len(digits)\n",
    "    sm = 0\n",
    "    for i in range(count):\n",
    "        sm = (digits[i] ** count)+ sm\n",
    "    if sm == num:\n",
    "        return True\n",
    "    else:\n",
    "        return False\n",
    "    \n",
    "def check_arm_in_range(start, end):\n",
    "    nos = []\n",
    "    for i in range(start, end+1):\n",
    "        if check_arm(i):\n",
    "            nos.append(i)\n",
    "    print(nos)\n",
    "    \n",
    "\n",
    "check_arm_in_range(25,1057)\n",
    "        \n",
    "    "
   ]
  },
  {
   "cell_type": "markdown",
   "id": "69789a85",
   "metadata": {},
   "source": [
    "### 6. Write a Python Program to Find the Sum of Natural Numbers?"
   ]
  },
  {
   "cell_type": "code",
   "execution_count": 17,
   "id": "c786b7b4",
   "metadata": {},
   "outputs": [
    {
     "name": "stdout",
     "output_type": "stream",
     "text": [
      "34\n",
      "The sum is 595\n"
     ]
    }
   ],
   "source": [
    "num = int(input())\n",
    "\n",
    "if num < 0:\n",
    "    print(\"Enter a positive number\")\n",
    "else:\n",
    "    sum = 0\n",
    "   # use while loop to iterate until zero\n",
    "    while(num > 0):\n",
    "        sum += num\n",
    "        num -= 1\n",
    "    print(\"The sum is\", sum)"
   ]
  },
  {
   "cell_type": "code",
   "execution_count": null,
   "id": "74d44a30",
   "metadata": {},
   "outputs": [],
   "source": []
  }
 ],
 "metadata": {
  "kernelspec": {
   "display_name": "Python 3 (ipykernel)",
   "language": "python",
   "name": "python3"
  },
  "language_info": {
   "codemirror_mode": {
    "name": "ipython",
    "version": 3
   },
   "file_extension": ".py",
   "mimetype": "text/x-python",
   "name": "python",
   "nbconvert_exporter": "python",
   "pygments_lexer": "ipython3",
   "version": "3.9.7"
  }
 },
 "nbformat": 4,
 "nbformat_minor": 5
}
