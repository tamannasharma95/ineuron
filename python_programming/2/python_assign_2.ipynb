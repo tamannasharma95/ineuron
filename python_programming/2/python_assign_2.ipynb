{
 "cells": [
  {
   "cell_type": "markdown",
   "id": "f4c6acf0",
   "metadata": {},
   "source": [
    "### 1. Write a Python program to convert kilometers to miles?"
   ]
  },
  {
   "cell_type": "code",
   "execution_count": 4,
   "id": "25638779",
   "metadata": {},
   "outputs": [
    {
     "name": "stdout",
     "output_type": "stream",
     "text": [
      "5\n",
      "3.106855\n"
     ]
    }
   ],
   "source": [
    "a = int(input())\n",
    "def km_to_miles(x):\n",
    "    to_miles =x*0.621371\n",
    "    return to_miles\n",
    "\n",
    "print(km_to_miles(a))"
   ]
  },
  {
   "cell_type": "markdown",
   "id": "8e1aac67",
   "metadata": {},
   "source": [
    "### 2. Write a Python program to convert Celsius to Fahrenheit?"
   ]
  },
  {
   "cell_type": "code",
   "execution_count": 6,
   "id": "0442f7aa",
   "metadata": {},
   "outputs": [
    {
     "data": {
      "text/plain": [
       "132.8"
      ]
     },
     "execution_count": 6,
     "metadata": {},
     "output_type": "execute_result"
    }
   ],
   "source": [
    "def cel_to_fahr(x):\n",
    "    to_fahr = (x * 9/5) +32\n",
    "    return to_fahr\n",
    "\n",
    "cel_to_fahr(56)"
   ]
  },
  {
   "cell_type": "markdown",
   "id": "0d5d8863",
   "metadata": {},
   "source": [
    "### 3. Write a Python program to display calendar?"
   ]
  },
  {
   "cell_type": "code",
   "execution_count": 10,
   "id": "5a4f1ba8",
   "metadata": {},
   "outputs": [
    {
     "name": "stdout",
     "output_type": "stream",
     "text": [
      "   December 2016\n",
      "Mo Tu We Th Fr Sa Su\n",
      "          1  2  3  4\n",
      " 5  6  7  8  9 10 11\n",
      "12 13 14 15 16 17 18\n",
      "19 20 21 22 23 24 25\n",
      "26 27 28 29 30 31\n",
      "\n"
     ]
    }
   ],
   "source": [
    "import calendar\n",
    "\n",
    "year = 2016\n",
    "month=12\n",
    "\n",
    "print(calendar.month(year, month))"
   ]
  },
  {
   "cell_type": "markdown",
   "id": "48c561af",
   "metadata": {},
   "source": [
    "### 4. Write a Python program to solve quadratic equation?"
   ]
  },
  {
   "cell_type": "code",
   "execution_count": 13,
   "id": "84e194f8",
   "metadata": {},
   "outputs": [
    {
     "name": "stdout",
     "output_type": "stream",
     "text": [
      "a 4\n",
      "b 6\n",
      "c 6\n",
      "The solution are (-3+0j) and (-2+0j)\n"
     ]
    }
   ],
   "source": [
    "# assume eqn type is a*x**2 + b*x + c = 0\n",
    "\n",
    "a = input(\"a \")\n",
    "b = input(\"b \")\n",
    "c = input(\"c \")\n",
    "\n",
    "# import complex math module\n",
    "import cmath\n",
    "\n",
    "a = 1\n",
    "b = 5\n",
    "c = 6\n",
    "\n",
    "# calculate the discriminant\n",
    "d = (b**2) - (4*a*c)\n",
    "5\n",
    "\n",
    "sol1 = (-b-cmath.sqrt(d))/(2*a)\n",
    "sol2 = (-b+cmath.sqrt(d))/(2*a)\n",
    "\n",
    "print('The solution are {0} and {1}'.format(sol1,sol2))"
   ]
  },
  {
   "cell_type": "markdown",
   "id": "7c0e9886",
   "metadata": {},
   "source": [
    "### 5. Write a Python program to swap two variables without temp variable?"
   ]
  },
  {
   "cell_type": "code",
   "execution_count": 7,
   "id": "5d616bb0",
   "metadata": {},
   "outputs": [
    {
     "name": "stdout",
     "output_type": "stream",
     "text": [
      "enter first no.34\n",
      "enter another no.45\n",
      "45 34\n"
     ]
    }
   ],
   "source": [
    "a = input(\"enter first no.\")\n",
    "b = input(\"enter another no.\")\n",
    "\n",
    "# swap the nos.\n",
    "a,b = b,a\n",
    "\n",
    "#after swapping nos. are \n",
    "print(a,b)"
   ]
  },
  {
   "cell_type": "code",
   "execution_count": null,
   "id": "b6994e2a",
   "metadata": {},
   "outputs": [],
   "source": []
  }
 ],
 "metadata": {
  "kernelspec": {
   "display_name": "Python 3 (ipykernel)",
   "language": "python",
   "name": "python3"
  },
  "language_info": {
   "codemirror_mode": {
    "name": "ipython",
    "version": 3
   },
   "file_extension": ".py",
   "mimetype": "text/x-python",
   "name": "python",
   "nbconvert_exporter": "python",
   "pygments_lexer": "ipython3",
   "version": "3.8.10"
  }
 },
 "nbformat": 4,
 "nbformat_minor": 5
}
